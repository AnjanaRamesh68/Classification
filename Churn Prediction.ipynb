{
 "cells": [
  {
   "cell_type": "markdown",
   "id": "ccd3cf48",
   "metadata": {},
   "source": [
    "Churn Rate is a crucial KPI in any business. Hence it becomes extreamly important to track the churn rate, identitfy the reasons to take necessary steps to decrease the churn rate and retain the customers"
   ]
  },
  {
   "cell_type": "code",
   "execution_count": 1,
   "id": "40341ecc",
   "metadata": {},
   "outputs": [],
   "source": [
    "import pandas as pd\n",
    "import numpy as np\n",
    "import matplotlib.pyplot as plt\n",
    "import seaborn as sns"
   ]
  },
  {
   "cell_type": "code",
   "execution_count": 2,
   "id": "27599f36",
   "metadata": {},
   "outputs": [],
   "source": [
    "data = pd.read_csv(r\"D:\\Projects\\Classification\\Bank Customer Churn Prediction.csv\")"
   ]
  },
  {
   "cell_type": "code",
   "execution_count": 3,
   "id": "dd23f7cf",
   "metadata": {},
   "outputs": [
    {
     "data": {
      "text/html": [
       "<div>\n",
       "<style scoped>\n",
       "    .dataframe tbody tr th:only-of-type {\n",
       "        vertical-align: middle;\n",
       "    }\n",
       "\n",
       "    .dataframe tbody tr th {\n",
       "        vertical-align: top;\n",
       "    }\n",
       "\n",
       "    .dataframe thead th {\n",
       "        text-align: right;\n",
       "    }\n",
       "</style>\n",
       "<table border=\"1\" class=\"dataframe\">\n",
       "  <thead>\n",
       "    <tr style=\"text-align: right;\">\n",
       "      <th></th>\n",
       "      <th>customer_id</th>\n",
       "      <th>credit_score</th>\n",
       "      <th>country</th>\n",
       "      <th>gender</th>\n",
       "      <th>age</th>\n",
       "      <th>tenure</th>\n",
       "      <th>balance</th>\n",
       "      <th>products_number</th>\n",
       "      <th>credit_card</th>\n",
       "      <th>active_member</th>\n",
       "      <th>estimated_salary</th>\n",
       "      <th>churn</th>\n",
       "    </tr>\n",
       "  </thead>\n",
       "  <tbody>\n",
       "    <tr>\n",
       "      <th>0</th>\n",
       "      <td>15634602</td>\n",
       "      <td>619</td>\n",
       "      <td>France</td>\n",
       "      <td>Female</td>\n",
       "      <td>42</td>\n",
       "      <td>2</td>\n",
       "      <td>0.00</td>\n",
       "      <td>1</td>\n",
       "      <td>1</td>\n",
       "      <td>1</td>\n",
       "      <td>101348.88</td>\n",
       "      <td>1</td>\n",
       "    </tr>\n",
       "    <tr>\n",
       "      <th>1</th>\n",
       "      <td>15647311</td>\n",
       "      <td>608</td>\n",
       "      <td>Spain</td>\n",
       "      <td>Female</td>\n",
       "      <td>41</td>\n",
       "      <td>1</td>\n",
       "      <td>83807.86</td>\n",
       "      <td>1</td>\n",
       "      <td>0</td>\n",
       "      <td>1</td>\n",
       "      <td>112542.58</td>\n",
       "      <td>0</td>\n",
       "    </tr>\n",
       "    <tr>\n",
       "      <th>2</th>\n",
       "      <td>15619304</td>\n",
       "      <td>502</td>\n",
       "      <td>France</td>\n",
       "      <td>Female</td>\n",
       "      <td>42</td>\n",
       "      <td>8</td>\n",
       "      <td>159660.80</td>\n",
       "      <td>3</td>\n",
       "      <td>1</td>\n",
       "      <td>0</td>\n",
       "      <td>113931.57</td>\n",
       "      <td>1</td>\n",
       "    </tr>\n",
       "    <tr>\n",
       "      <th>3</th>\n",
       "      <td>15701354</td>\n",
       "      <td>699</td>\n",
       "      <td>France</td>\n",
       "      <td>Female</td>\n",
       "      <td>39</td>\n",
       "      <td>1</td>\n",
       "      <td>0.00</td>\n",
       "      <td>2</td>\n",
       "      <td>0</td>\n",
       "      <td>0</td>\n",
       "      <td>93826.63</td>\n",
       "      <td>0</td>\n",
       "    </tr>\n",
       "    <tr>\n",
       "      <th>4</th>\n",
       "      <td>15737888</td>\n",
       "      <td>850</td>\n",
       "      <td>Spain</td>\n",
       "      <td>Female</td>\n",
       "      <td>43</td>\n",
       "      <td>2</td>\n",
       "      <td>125510.82</td>\n",
       "      <td>1</td>\n",
       "      <td>1</td>\n",
       "      <td>1</td>\n",
       "      <td>79084.10</td>\n",
       "      <td>0</td>\n",
       "    </tr>\n",
       "    <tr>\n",
       "      <th>...</th>\n",
       "      <td>...</td>\n",
       "      <td>...</td>\n",
       "      <td>...</td>\n",
       "      <td>...</td>\n",
       "      <td>...</td>\n",
       "      <td>...</td>\n",
       "      <td>...</td>\n",
       "      <td>...</td>\n",
       "      <td>...</td>\n",
       "      <td>...</td>\n",
       "      <td>...</td>\n",
       "      <td>...</td>\n",
       "    </tr>\n",
       "    <tr>\n",
       "      <th>9995</th>\n",
       "      <td>15606229</td>\n",
       "      <td>771</td>\n",
       "      <td>France</td>\n",
       "      <td>Male</td>\n",
       "      <td>39</td>\n",
       "      <td>5</td>\n",
       "      <td>0.00</td>\n",
       "      <td>2</td>\n",
       "      <td>1</td>\n",
       "      <td>0</td>\n",
       "      <td>96270.64</td>\n",
       "      <td>0</td>\n",
       "    </tr>\n",
       "    <tr>\n",
       "      <th>9996</th>\n",
       "      <td>15569892</td>\n",
       "      <td>516</td>\n",
       "      <td>France</td>\n",
       "      <td>Male</td>\n",
       "      <td>35</td>\n",
       "      <td>10</td>\n",
       "      <td>57369.61</td>\n",
       "      <td>1</td>\n",
       "      <td>1</td>\n",
       "      <td>1</td>\n",
       "      <td>101699.77</td>\n",
       "      <td>0</td>\n",
       "    </tr>\n",
       "    <tr>\n",
       "      <th>9997</th>\n",
       "      <td>15584532</td>\n",
       "      <td>709</td>\n",
       "      <td>France</td>\n",
       "      <td>Female</td>\n",
       "      <td>36</td>\n",
       "      <td>7</td>\n",
       "      <td>0.00</td>\n",
       "      <td>1</td>\n",
       "      <td>0</td>\n",
       "      <td>1</td>\n",
       "      <td>42085.58</td>\n",
       "      <td>1</td>\n",
       "    </tr>\n",
       "    <tr>\n",
       "      <th>9998</th>\n",
       "      <td>15682355</td>\n",
       "      <td>772</td>\n",
       "      <td>Germany</td>\n",
       "      <td>Male</td>\n",
       "      <td>42</td>\n",
       "      <td>3</td>\n",
       "      <td>75075.31</td>\n",
       "      <td>2</td>\n",
       "      <td>1</td>\n",
       "      <td>0</td>\n",
       "      <td>92888.52</td>\n",
       "      <td>1</td>\n",
       "    </tr>\n",
       "    <tr>\n",
       "      <th>9999</th>\n",
       "      <td>15628319</td>\n",
       "      <td>792</td>\n",
       "      <td>France</td>\n",
       "      <td>Female</td>\n",
       "      <td>28</td>\n",
       "      <td>4</td>\n",
       "      <td>130142.79</td>\n",
       "      <td>1</td>\n",
       "      <td>1</td>\n",
       "      <td>0</td>\n",
       "      <td>38190.78</td>\n",
       "      <td>0</td>\n",
       "    </tr>\n",
       "  </tbody>\n",
       "</table>\n",
       "<p>10000 rows × 12 columns</p>\n",
       "</div>"
      ],
      "text/plain": [
       "      customer_id  credit_score  country  gender  age  tenure    balance  \\\n",
       "0        15634602           619   France  Female   42       2       0.00   \n",
       "1        15647311           608    Spain  Female   41       1   83807.86   \n",
       "2        15619304           502   France  Female   42       8  159660.80   \n",
       "3        15701354           699   France  Female   39       1       0.00   \n",
       "4        15737888           850    Spain  Female   43       2  125510.82   \n",
       "...           ...           ...      ...     ...  ...     ...        ...   \n",
       "9995     15606229           771   France    Male   39       5       0.00   \n",
       "9996     15569892           516   France    Male   35      10   57369.61   \n",
       "9997     15584532           709   France  Female   36       7       0.00   \n",
       "9998     15682355           772  Germany    Male   42       3   75075.31   \n",
       "9999     15628319           792   France  Female   28       4  130142.79   \n",
       "\n",
       "      products_number  credit_card  active_member  estimated_salary  churn  \n",
       "0                   1            1              1         101348.88      1  \n",
       "1                   1            0              1         112542.58      0  \n",
       "2                   3            1              0         113931.57      1  \n",
       "3                   2            0              0          93826.63      0  \n",
       "4                   1            1              1          79084.10      0  \n",
       "...               ...          ...            ...               ...    ...  \n",
       "9995                2            1              0          96270.64      0  \n",
       "9996                1            1              1         101699.77      0  \n",
       "9997                1            0              1          42085.58      1  \n",
       "9998                2            1              0          92888.52      1  \n",
       "9999                1            1              0          38190.78      0  \n",
       "\n",
       "[10000 rows x 12 columns]"
      ]
     },
     "execution_count": 3,
     "metadata": {},
     "output_type": "execute_result"
    }
   ],
   "source": [
    "data"
   ]
  },
  {
   "cell_type": "markdown",
   "id": "1e2d7470",
   "metadata": {},
   "source": [
    "10000 instances are present which represents 10000 customers with individual id. 12 attributes of the customers are available among these one is the churn status which is the target column"
   ]
  },
  {
   "cell_type": "code",
   "execution_count": 4,
   "id": "61a096a4",
   "metadata": {},
   "outputs": [
    {
     "name": "stdout",
     "output_type": "stream",
     "text": [
      "<class 'pandas.core.frame.DataFrame'>\n",
      "RangeIndex: 10000 entries, 0 to 9999\n",
      "Data columns (total 12 columns):\n",
      " #   Column            Non-Null Count  Dtype  \n",
      "---  ------            --------------  -----  \n",
      " 0   customer_id       10000 non-null  int64  \n",
      " 1   credit_score      10000 non-null  int64  \n",
      " 2   country           10000 non-null  object \n",
      " 3   gender            10000 non-null  object \n",
      " 4   age               10000 non-null  int64  \n",
      " 5   tenure            10000 non-null  int64  \n",
      " 6   balance           10000 non-null  float64\n",
      " 7   products_number   10000 non-null  int64  \n",
      " 8   credit_card       10000 non-null  int64  \n",
      " 9   active_member     10000 non-null  int64  \n",
      " 10  estimated_salary  10000 non-null  float64\n",
      " 11  churn             10000 non-null  int64  \n",
      "dtypes: float64(2), int64(8), object(2)\n",
      "memory usage: 937.6+ KB\n"
     ]
    }
   ],
   "source": [
    "data.info()"
   ]
  },
  {
   "cell_type": "markdown",
   "id": "240ab037",
   "metadata": {},
   "source": [
    "No null values to be dealt with"
   ]
  },
  {
   "cell_type": "code",
   "execution_count": 5,
   "id": "61bce57e",
   "metadata": {},
   "outputs": [
    {
     "data": {
      "text/html": [
       "<div>\n",
       "<style scoped>\n",
       "    .dataframe tbody tr th:only-of-type {\n",
       "        vertical-align: middle;\n",
       "    }\n",
       "\n",
       "    .dataframe tbody tr th {\n",
       "        vertical-align: top;\n",
       "    }\n",
       "\n",
       "    .dataframe thead th {\n",
       "        text-align: right;\n",
       "    }\n",
       "</style>\n",
       "<table border=\"1\" class=\"dataframe\">\n",
       "  <thead>\n",
       "    <tr style=\"text-align: right;\">\n",
       "      <th></th>\n",
       "      <th>customer_id</th>\n",
       "      <th>credit_score</th>\n",
       "      <th>country</th>\n",
       "      <th>gender</th>\n",
       "      <th>age</th>\n",
       "      <th>tenure</th>\n",
       "      <th>balance</th>\n",
       "      <th>products_number</th>\n",
       "      <th>credit_card</th>\n",
       "      <th>active_member</th>\n",
       "      <th>estimated_salary</th>\n",
       "      <th>churn</th>\n",
       "    </tr>\n",
       "  </thead>\n",
       "  <tbody>\n",
       "    <tr>\n",
       "      <th>count</th>\n",
       "      <td>1.000000e+04</td>\n",
       "      <td>10000.000000</td>\n",
       "      <td>10000</td>\n",
       "      <td>10000</td>\n",
       "      <td>10000.000000</td>\n",
       "      <td>10000.000000</td>\n",
       "      <td>10000.000000</td>\n",
       "      <td>10000.000000</td>\n",
       "      <td>10000.00000</td>\n",
       "      <td>10000.000000</td>\n",
       "      <td>10000.000000</td>\n",
       "      <td>10000.000000</td>\n",
       "    </tr>\n",
       "    <tr>\n",
       "      <th>unique</th>\n",
       "      <td>NaN</td>\n",
       "      <td>NaN</td>\n",
       "      <td>3</td>\n",
       "      <td>2</td>\n",
       "      <td>NaN</td>\n",
       "      <td>NaN</td>\n",
       "      <td>NaN</td>\n",
       "      <td>NaN</td>\n",
       "      <td>NaN</td>\n",
       "      <td>NaN</td>\n",
       "      <td>NaN</td>\n",
       "      <td>NaN</td>\n",
       "    </tr>\n",
       "    <tr>\n",
       "      <th>top</th>\n",
       "      <td>NaN</td>\n",
       "      <td>NaN</td>\n",
       "      <td>France</td>\n",
       "      <td>Male</td>\n",
       "      <td>NaN</td>\n",
       "      <td>NaN</td>\n",
       "      <td>NaN</td>\n",
       "      <td>NaN</td>\n",
       "      <td>NaN</td>\n",
       "      <td>NaN</td>\n",
       "      <td>NaN</td>\n",
       "      <td>NaN</td>\n",
       "    </tr>\n",
       "    <tr>\n",
       "      <th>freq</th>\n",
       "      <td>NaN</td>\n",
       "      <td>NaN</td>\n",
       "      <td>5014</td>\n",
       "      <td>5457</td>\n",
       "      <td>NaN</td>\n",
       "      <td>NaN</td>\n",
       "      <td>NaN</td>\n",
       "      <td>NaN</td>\n",
       "      <td>NaN</td>\n",
       "      <td>NaN</td>\n",
       "      <td>NaN</td>\n",
       "      <td>NaN</td>\n",
       "    </tr>\n",
       "    <tr>\n",
       "      <th>mean</th>\n",
       "      <td>1.569094e+07</td>\n",
       "      <td>650.528800</td>\n",
       "      <td>NaN</td>\n",
       "      <td>NaN</td>\n",
       "      <td>38.921800</td>\n",
       "      <td>5.012800</td>\n",
       "      <td>76485.889288</td>\n",
       "      <td>1.530200</td>\n",
       "      <td>0.70550</td>\n",
       "      <td>0.515100</td>\n",
       "      <td>100090.239881</td>\n",
       "      <td>0.203700</td>\n",
       "    </tr>\n",
       "    <tr>\n",
       "      <th>std</th>\n",
       "      <td>7.193619e+04</td>\n",
       "      <td>96.653299</td>\n",
       "      <td>NaN</td>\n",
       "      <td>NaN</td>\n",
       "      <td>10.487806</td>\n",
       "      <td>2.892174</td>\n",
       "      <td>62397.405202</td>\n",
       "      <td>0.581654</td>\n",
       "      <td>0.45584</td>\n",
       "      <td>0.499797</td>\n",
       "      <td>57510.492818</td>\n",
       "      <td>0.402769</td>\n",
       "    </tr>\n",
       "    <tr>\n",
       "      <th>min</th>\n",
       "      <td>1.556570e+07</td>\n",
       "      <td>350.000000</td>\n",
       "      <td>NaN</td>\n",
       "      <td>NaN</td>\n",
       "      <td>18.000000</td>\n",
       "      <td>0.000000</td>\n",
       "      <td>0.000000</td>\n",
       "      <td>1.000000</td>\n",
       "      <td>0.00000</td>\n",
       "      <td>0.000000</td>\n",
       "      <td>11.580000</td>\n",
       "      <td>0.000000</td>\n",
       "    </tr>\n",
       "    <tr>\n",
       "      <th>25%</th>\n",
       "      <td>1.562853e+07</td>\n",
       "      <td>584.000000</td>\n",
       "      <td>NaN</td>\n",
       "      <td>NaN</td>\n",
       "      <td>32.000000</td>\n",
       "      <td>3.000000</td>\n",
       "      <td>0.000000</td>\n",
       "      <td>1.000000</td>\n",
       "      <td>0.00000</td>\n",
       "      <td>0.000000</td>\n",
       "      <td>51002.110000</td>\n",
       "      <td>0.000000</td>\n",
       "    </tr>\n",
       "    <tr>\n",
       "      <th>50%</th>\n",
       "      <td>1.569074e+07</td>\n",
       "      <td>652.000000</td>\n",
       "      <td>NaN</td>\n",
       "      <td>NaN</td>\n",
       "      <td>37.000000</td>\n",
       "      <td>5.000000</td>\n",
       "      <td>97198.540000</td>\n",
       "      <td>1.000000</td>\n",
       "      <td>1.00000</td>\n",
       "      <td>1.000000</td>\n",
       "      <td>100193.915000</td>\n",
       "      <td>0.000000</td>\n",
       "    </tr>\n",
       "    <tr>\n",
       "      <th>75%</th>\n",
       "      <td>1.575323e+07</td>\n",
       "      <td>718.000000</td>\n",
       "      <td>NaN</td>\n",
       "      <td>NaN</td>\n",
       "      <td>44.000000</td>\n",
       "      <td>7.000000</td>\n",
       "      <td>127644.240000</td>\n",
       "      <td>2.000000</td>\n",
       "      <td>1.00000</td>\n",
       "      <td>1.000000</td>\n",
       "      <td>149388.247500</td>\n",
       "      <td>0.000000</td>\n",
       "    </tr>\n",
       "    <tr>\n",
       "      <th>max</th>\n",
       "      <td>1.581569e+07</td>\n",
       "      <td>850.000000</td>\n",
       "      <td>NaN</td>\n",
       "      <td>NaN</td>\n",
       "      <td>92.000000</td>\n",
       "      <td>10.000000</td>\n",
       "      <td>250898.090000</td>\n",
       "      <td>4.000000</td>\n",
       "      <td>1.00000</td>\n",
       "      <td>1.000000</td>\n",
       "      <td>199992.480000</td>\n",
       "      <td>1.000000</td>\n",
       "    </tr>\n",
       "  </tbody>\n",
       "</table>\n",
       "</div>"
      ],
      "text/plain": [
       "         customer_id  credit_score country gender           age        tenure  \\\n",
       "count   1.000000e+04  10000.000000   10000  10000  10000.000000  10000.000000   \n",
       "unique           NaN           NaN       3      2           NaN           NaN   \n",
       "top              NaN           NaN  France   Male           NaN           NaN   \n",
       "freq             NaN           NaN    5014   5457           NaN           NaN   \n",
       "mean    1.569094e+07    650.528800     NaN    NaN     38.921800      5.012800   \n",
       "std     7.193619e+04     96.653299     NaN    NaN     10.487806      2.892174   \n",
       "min     1.556570e+07    350.000000     NaN    NaN     18.000000      0.000000   \n",
       "25%     1.562853e+07    584.000000     NaN    NaN     32.000000      3.000000   \n",
       "50%     1.569074e+07    652.000000     NaN    NaN     37.000000      5.000000   \n",
       "75%     1.575323e+07    718.000000     NaN    NaN     44.000000      7.000000   \n",
       "max     1.581569e+07    850.000000     NaN    NaN     92.000000     10.000000   \n",
       "\n",
       "              balance  products_number  credit_card  active_member  \\\n",
       "count    10000.000000     10000.000000  10000.00000   10000.000000   \n",
       "unique            NaN              NaN          NaN            NaN   \n",
       "top               NaN              NaN          NaN            NaN   \n",
       "freq              NaN              NaN          NaN            NaN   \n",
       "mean     76485.889288         1.530200      0.70550       0.515100   \n",
       "std      62397.405202         0.581654      0.45584       0.499797   \n",
       "min          0.000000         1.000000      0.00000       0.000000   \n",
       "25%          0.000000         1.000000      0.00000       0.000000   \n",
       "50%      97198.540000         1.000000      1.00000       1.000000   \n",
       "75%     127644.240000         2.000000      1.00000       1.000000   \n",
       "max     250898.090000         4.000000      1.00000       1.000000   \n",
       "\n",
       "        estimated_salary         churn  \n",
       "count       10000.000000  10000.000000  \n",
       "unique               NaN           NaN  \n",
       "top                  NaN           NaN  \n",
       "freq                 NaN           NaN  \n",
       "mean       100090.239881      0.203700  \n",
       "std         57510.492818      0.402769  \n",
       "min            11.580000      0.000000  \n",
       "25%         51002.110000      0.000000  \n",
       "50%        100193.915000      0.000000  \n",
       "75%        149388.247500      0.000000  \n",
       "max        199992.480000      1.000000  "
      ]
     },
     "execution_count": 5,
     "metadata": {},
     "output_type": "execute_result"
    }
   ],
   "source": [
    "data.describe(include = 'all')"
   ]
  },
  {
   "cell_type": "markdown",
   "id": "99fa9f10",
   "metadata": {},
   "source": [
    "### Numerical attribute analysis"
   ]
  },
  {
   "cell_type": "markdown",
   "id": "cc7a7e88",
   "metadata": {},
   "source": [
    "The numerical attributes are credit_score , age , tenure , balance , estimated_salary, products_number"
   ]
  },
  {
   "cell_type": "code",
   "execution_count": 6,
   "id": "fd354b40",
   "metadata": {
    "scrolled": false
   },
   "outputs": [
    {
     "data": {
      "image/png": "[encoded data removed]",
      "text/plain": [
       "<Figure size 360x360 with 1 Axes>"
      ]
     },
     "metadata": {
      "needs_background": "light"
     },
     "output_type": "display_data"
    },
    {
     "data": {
      "image/png": "[encoded data removed]",
      "text/plain": [
       "<Figure size 360x360 with 1 Axes>"
      ]
     },
     "metadata": {
      "needs_background": "light"
     },
     "output_type": "display_data"
    },
    {
     "data": {
      "image/png": "[encoded data removed]",
      "text/plain": [
       "<Figure size 360x360 with 1 Axes>"
      ]
     },
     "metadata": {
      "needs_background": "light"
     },
     "output_type": "display_data"
    },
    {
     "data": {
      "image/png": "[encoded data removed]",
      "text/plain": [
       "<Figure size 360x360 with 1 Axes>"
      ]
     },
     "metadata": {
      "needs_background": "light"
     },
     "output_type": "display_data"
    },
    {
     "data": {
      "image/png": "[encoded data removed]",
      "text/plain": [
       "<Figure size 360x360 with 1 Axes>"
      ]
     },
     "metadata": {
      "needs_background": "light"
     },
     "output_type": "display_data"
    },
    {
     "data": {
      "image/png": "[encoded data removed]",
      "text/plain": [
       "<Figure size 360x360 with 1 Axes>"
      ]
     },
     "metadata": {
      "needs_background": "light"
     },
     "output_type": "display_data"
    }
   ],
   "source": [
    "for i in ['credit_score','age','tenure','balance','estimated_salary','products_number']:\n",
    "    sns.displot(data = data , x = data[i])\n",
    "    plt.title(f'{i}')\n",
    "    plt.show()"
   ]
  },
  {
   "cell_type": "markdown",
   "id": "2aa2a8de",
   "metadata": {},
   "source": [
    "The credit score has a normal distribution. An outlier is present which is the max value and has a considerably high frequency as well\n",
    "\n",
    "The age column is right skewed.\n",
    "\n",
    "The tenure column has a rough uniform distribution\n",
    "\n",
    "The balance column has its mode in 0 which is a potential outlier which makes the perfect normal distribution impossible for the balance column.\n",
    "\n",
    "The estimated salary column also has a uniform distribution\n",
    "\n",
    "The prodcuts_number is a discrete column with right skewed distribution."
   ]
  },
  {
   "cell_type": "code",
   "execution_count": 7,
   "id": "a368c2a9",
   "metadata": {},
   "outputs": [
    {
     "data": {
      "image/png": "[encoded data removed]",
      "text/plain": [
       "<Figure size 432x288 with 1 Axes>"
      ]
     },
     "metadata": {
      "needs_background": "light"
     },
     "output_type": "display_data"
    },
    {
     "data": {
      "image/png": "[encoded data removed]",
      "text/plain": [
       "<Figure size 432x288 with 1 Axes>"
      ]
     },
     "metadata": {
      "needs_background": "light"
     },
     "output_type": "display_data"
    },
    {
     "data": {
      "image/png": "[encoded data removed]",
      "text/plain": [
       "<Figure size 432x288 with 1 Axes>"
      ]
     },
     "metadata": {
      "needs_background": "light"
     },
     "output_type": "display_data"
    },
    {
     "data": {
      "image/png": "[encoded data removed]",
      "text/plain": [
       "<Figure size 432x288 with 1 Axes>"
      ]
     },
     "metadata": {
      "needs_background": "light"
     },
     "output_type": "display_data"
    },
    {
     "data": {
      "image/png": "[encoded data removed]",
      "text/plain": [
       "<Figure size 432x288 with 1 Axes>"
      ]
     },
     "metadata": {
      "needs_background": "light"
     },
     "output_type": "display_data"
    },
    {
     "data": {
      "image/png": "[encoded data removed]",
      "text/plain": [
       "<Figure size 432x288 with 1 Axes>"
      ]
     },
     "metadata": {
      "needs_background": "light"
     },
     "output_type": "display_data"
    }
   ],
   "source": [
    "for i in ['credit_score','age','tenure','balance','estimated_salary','products_number']:\n",
    "    sns.boxplot(data = data , y = data[i] , x = data['churn'] )\n",
    "    plt.title(f'{i}')\n",
    "    plt.show()"
   ]
  },
  {
   "cell_type": "markdown",
   "id": "f3bb765e",
   "metadata": {},
   "source": [
    "The credit score ,estimated salary and products number seems to create no big impact on the churn variable.\n",
    "\n",
    "Balance ,tenure and age has little impacts on the target variable"
   ]
  },
  {
   "cell_type": "code",
   "execution_count": 8,
   "id": "53e11c9a",
   "metadata": {},
   "outputs": [
    {
     "data": {
      "image/png": "[encoded data removed]",
      "text/plain": [
       "<Figure size 720x720 with 2 Axes>"
      ]
     },
     "metadata": {
      "needs_background": "light"
     },
     "output_type": "display_data"
    }
   ],
   "source": [
    "num = data[['credit_score','age','tenure','balance','estimated_salary','products_number']]\n",
    "corr = num.corr()\n",
    "plt.figure(figsize = (10,10))\n",
    "sns.heatmap(corr,annot = True)\n",
    "plt.show()"
   ]
  },
  {
   "cell_type": "markdown",
   "id": "cdee94ff",
   "metadata": {},
   "source": [
    "There are no noticeably high correlation among any of the categorical variables."
   ]
  },
  {
   "cell_type": "code",
   "execution_count": 9,
   "id": "dc010aa9",
   "metadata": {},
   "outputs": [],
   "source": [
    "import scipy.stats as stats"
   ]
  },
  {
   "cell_type": "code",
   "execution_count": 10,
   "id": "bfba8e0b",
   "metadata": {},
   "outputs": [
    {
     "name": "stdout",
     "output_type": "stream",
     "text": [
      "credit_score=0.00674\n",
      "age=0.00000\n",
      "tenure=0.16153\n",
      "balance=0.00000\n",
      "estimated_salary=0.22644\n",
      "products_number=0.00000\n"
     ]
    }
   ],
   "source": [
    "for i in ['credit_score','age','tenure','balance','estimated_salary','products_number']:\n",
    "    a = data[data['churn']==0][i]\n",
    "    b = data[data['churn']==1][i]\n",
    "    t,p = stats.ttest_ind(a,b)\n",
    "    print(f'{i}'+'={:0.5f}'.format(p))"
   ]
  },
  {
   "cell_type": "markdown",
   "id": "0bf08d17",
   "metadata": {},
   "source": [
    "## Categorical Variables"
   ]
  },
  {
   "cell_type": "code",
   "execution_count": 11,
   "id": "319dd85b",
   "metadata": {},
   "outputs": [
    {
     "data": {
      "image/png": "[encoded data removed]",
      "text/plain": [
       "<Figure size 432x288 with 1 Axes>"
      ]
     },
     "metadata": {
      "needs_background": "light"
     },
     "output_type": "display_data"
    },
    {
     "data": {
      "image/png": "[encoded data removed]",
      "text/plain": [
       "<Figure size 432x288 with 1 Axes>"
      ]
     },
     "metadata": {
      "needs_background": "light"
     },
     "output_type": "display_data"
    },
    {
     "data": {
      "image/png": "[encoded data removed]",
      "text/plain": [
       "<Figure size 432x288 with 1 Axes>"
      ]
     },
     "metadata": {
      "needs_background": "light"
     },
     "output_type": "display_data"
    },
    {
     "data": {
      "image/png": "[encoded data removed]",
      "text/plain": [
       "<Figure size 432x288 with 1 Axes>"
      ]
     },
     "metadata": {
      "needs_background": "light"
     },
     "output_type": "display_data"
    }
   ],
   "source": [
    "for i in ['country','gender','credit_card','active_member']:\n",
    "    a = data[i].value_counts()\n",
    "    a = a.reset_index()\n",
    "    plt.title(f'{i}')\n",
    "    sns.barplot(data = a,x='index',y = i)\n",
    "    plt.show()"
   ]
  },
  {
   "cell_type": "code",
   "execution_count": 12,
   "id": "17c33568",
   "metadata": {},
   "outputs": [
    {
     "name": "stdout",
     "output_type": "stream",
     "text": [
      "country=0.00000\n",
      "gender=0.00000\n",
      "credit_card=0.49237\n",
      "active_member=0.00000\n"
     ]
    }
   ],
   "source": [
    "for i in ['country','gender','credit_card','active_member']:\n",
    "    conti = pd.crosstab(data[i],data['churn'])\n",
    "    c,p,df,ex = stats.chi2_contingency(conti)\n",
    "    print(f'{i}'+'={:0.5f}'.format(p))"
   ]
  },
  {
   "cell_type": "markdown",
   "id": "3a196c00",
   "metadata": {},
   "source": [
    "## Pre-Processing"
   ]
  },
  {
   "cell_type": "code",
   "execution_count": 13,
   "id": "e66677fc",
   "metadata": {},
   "outputs": [
    {
     "data": {
      "text/plain": [
       "0    7963\n",
       "1    2037\n",
       "Name: churn, dtype: int64"
      ]
     },
     "execution_count": 13,
     "metadata": {},
     "output_type": "execute_result"
    }
   ],
   "source": [
    "data['churn'].value_counts()"
   ]
  },
  {
   "cell_type": "markdown",
   "id": "14c71450",
   "metadata": {},
   "source": [
    "There is a slight imbalance in the dataset."
   ]
  },
  {
   "cell_type": "code",
   "execution_count": 14,
   "id": "c0da6846",
   "metadata": {},
   "outputs": [
    {
     "data": {
      "text/html": [
       "<div>\n",
       "<style scoped>\n",
       "    .dataframe tbody tr th:only-of-type {\n",
       "        vertical-align: middle;\n",
       "    }\n",
       "\n",
       "    .dataframe tbody tr th {\n",
       "        vertical-align: top;\n",
       "    }\n",
       "\n",
       "    .dataframe thead th {\n",
       "        text-align: right;\n",
       "    }\n",
       "</style>\n",
       "<table border=\"1\" class=\"dataframe\">\n",
       "  <thead>\n",
       "    <tr style=\"text-align: right;\">\n",
       "      <th></th>\n",
       "      <th>customer_id</th>\n",
       "      <th>credit_score</th>\n",
       "      <th>age</th>\n",
       "      <th>tenure</th>\n",
       "      <th>balance</th>\n",
       "      <th>products_number</th>\n",
       "      <th>estimated_salary</th>\n",
       "      <th>churn</th>\n",
       "      <th>country_France</th>\n",
       "      <th>country_Germany</th>\n",
       "      <th>country_Spain</th>\n",
       "      <th>gender_Female</th>\n",
       "      <th>gender_Male</th>\n",
       "      <th>credit_card_0</th>\n",
       "      <th>credit_card_1</th>\n",
       "      <th>active_member_0</th>\n",
       "      <th>active_member_1</th>\n",
       "    </tr>\n",
       "  </thead>\n",
       "  <tbody>\n",
       "    <tr>\n",
       "      <th>0</th>\n",
       "      <td>15634602</td>\n",
       "      <td>619</td>\n",
       "      <td>42</td>\n",
       "      <td>2</td>\n",
       "      <td>0.00</td>\n",
       "      <td>1</td>\n",
       "      <td>101348.88</td>\n",
       "      <td>1</td>\n",
       "      <td>1</td>\n",
       "      <td>0</td>\n",
       "      <td>0</td>\n",
       "      <td>1</td>\n",
       "      <td>0</td>\n",
       "      <td>0</td>\n",
       "      <td>1</td>\n",
       "      <td>0</td>\n",
       "      <td>1</td>\n",
       "    </tr>\n",
       "    <tr>\n",
       "      <th>1</th>\n",
       "      <td>15647311</td>\n",
       "      <td>608</td>\n",
       "      <td>41</td>\n",
       "      <td>1</td>\n",
       "      <td>83807.86</td>\n",
       "      <td>1</td>\n",
       "      <td>112542.58</td>\n",
       "      <td>0</td>\n",
       "      <td>0</td>\n",
       "      <td>0</td>\n",
       "      <td>1</td>\n",
       "      <td>1</td>\n",
       "      <td>0</td>\n",
       "      <td>1</td>\n",
       "      <td>0</td>\n",
       "      <td>0</td>\n",
       "      <td>1</td>\n",
       "    </tr>\n",
       "    <tr>\n",
       "      <th>2</th>\n",
       "      <td>15619304</td>\n",
       "      <td>502</td>\n",
       "      <td>42</td>\n",
       "      <td>8</td>\n",
       "      <td>159660.80</td>\n",
       "      <td>3</td>\n",
       "      <td>113931.57</td>\n",
       "      <td>1</td>\n",
       "      <td>1</td>\n",
       "      <td>0</td>\n",
       "      <td>0</td>\n",
       "      <td>1</td>\n",
       "      <td>0</td>\n",
       "      <td>0</td>\n",
       "      <td>1</td>\n",
       "      <td>1</td>\n",
       "      <td>0</td>\n",
       "    </tr>\n",
       "    <tr>\n",
       "      <th>3</th>\n",
       "      <td>15701354</td>\n",
       "      <td>699</td>\n",
       "      <td>39</td>\n",
       "      <td>1</td>\n",
       "      <td>0.00</td>\n",
       "      <td>2</td>\n",
       "      <td>93826.63</td>\n",
       "      <td>0</td>\n",
       "      <td>1</td>\n",
       "      <td>0</td>\n",
       "      <td>0</td>\n",
       "      <td>1</td>\n",
       "      <td>0</td>\n",
       "      <td>1</td>\n",
       "      <td>0</td>\n",
       "      <td>1</td>\n",
       "      <td>0</td>\n",
       "    </tr>\n",
       "    <tr>\n",
       "      <th>4</th>\n",
       "      <td>15737888</td>\n",
       "      <td>850</td>\n",
       "      <td>43</td>\n",
       "      <td>2</td>\n",
       "      <td>125510.82</td>\n",
       "      <td>1</td>\n",
       "      <td>79084.10</td>\n",
       "      <td>0</td>\n",
       "      <td>0</td>\n",
       "      <td>0</td>\n",
       "      <td>1</td>\n",
       "      <td>1</td>\n",
       "      <td>0</td>\n",
       "      <td>0</td>\n",
       "      <td>1</td>\n",
       "      <td>0</td>\n",
       "      <td>1</td>\n",
       "    </tr>\n",
       "    <tr>\n",
       "      <th>...</th>\n",
       "      <td>...</td>\n",
       "      <td>...</td>\n",
       "      <td>...</td>\n",
       "      <td>...</td>\n",
       "      <td>...</td>\n",
       "      <td>...</td>\n",
       "      <td>...</td>\n",
       "      <td>...</td>\n",
       "      <td>...</td>\n",
       "      <td>...</td>\n",
       "      <td>...</td>\n",
       "      <td>...</td>\n",
       "      <td>...</td>\n",
       "      <td>...</td>\n",
       "      <td>...</td>\n",
       "      <td>...</td>\n",
       "      <td>...</td>\n",
       "    </tr>\n",
       "    <tr>\n",
       "      <th>9995</th>\n",
       "      <td>15606229</td>\n",
       "      <td>771</td>\n",
       "      <td>39</td>\n",
       "      <td>5</td>\n",
       "      <td>0.00</td>\n",
       "      <td>2</td>\n",
       "      <td>96270.64</td>\n",
       "      <td>0</td>\n",
       "      <td>1</td>\n",
       "      <td>0</td>\n",
       "      <td>0</td>\n",
       "      <td>0</td>\n",
       "      <td>1</td>\n",
       "      <td>0</td>\n",
       "      <td>1</td>\n",
       "      <td>1</td>\n",
       "      <td>0</td>\n",
       "    </tr>\n",
       "    <tr>\n",
       "      <th>9996</th>\n",
       "      <td>15569892</td>\n",
       "      <td>516</td>\n",
       "      <td>35</td>\n",
       "      <td>10</td>\n",
       "      <td>57369.61</td>\n",
       "      <td>1</td>\n",
       "      <td>101699.77</td>\n",
       "      <td>0</td>\n",
       "      <td>1</td>\n",
       "      <td>0</td>\n",
       "      <td>0</td>\n",
       "      <td>0</td>\n",
       "      <td>1</td>\n",
       "      <td>0</td>\n",
       "      <td>1</td>\n",
       "      <td>0</td>\n",
       "      <td>1</td>\n",
       "    </tr>\n",
       "    <tr>\n",
       "      <th>9997</th>\n",
       "      <td>15584532</td>\n",
       "      <td>709</td>\n",
       "      <td>36</td>\n",
       "      <td>7</td>\n",
       "      <td>0.00</td>\n",
       "      <td>1</td>\n",
       "      <td>42085.58</td>\n",
       "      <td>1</td>\n",
       "      <td>1</td>\n",
       "      <td>0</td>\n",
       "      <td>0</td>\n",
       "      <td>1</td>\n",
       "      <td>0</td>\n",
       "      <td>1</td>\n",
       "      <td>0</td>\n",
       "      <td>0</td>\n",
       "      <td>1</td>\n",
       "    </tr>\n",
       "    <tr>\n",
       "      <th>9998</th>\n",
       "      <td>15682355</td>\n",
       "      <td>772</td>\n",
       "      <td>42</td>\n",
       "      <td>3</td>\n",
       "      <td>75075.31</td>\n",
       "      <td>2</td>\n",
       "      <td>92888.52</td>\n",
       "      <td>1</td>\n",
       "      <td>0</td>\n",
       "      <td>1</td>\n",
       "      <td>0</td>\n",
       "      <td>0</td>\n",
       "      <td>1</td>\n",
       "      <td>0</td>\n",
       "      <td>1</td>\n",
       "      <td>1</td>\n",
       "      <td>0</td>\n",
       "    </tr>\n",
       "    <tr>\n",
       "      <th>9999</th>\n",
       "      <td>15628319</td>\n",
       "      <td>792</td>\n",
       "      <td>28</td>\n",
       "      <td>4</td>\n",
       "      <td>130142.79</td>\n",
       "      <td>1</td>\n",
       "      <td>38190.78</td>\n",
       "      <td>0</td>\n",
       "      <td>1</td>\n",
       "      <td>0</td>\n",
       "      <td>0</td>\n",
       "      <td>1</td>\n",
       "      <td>0</td>\n",
       "      <td>0</td>\n",
       "      <td>1</td>\n",
       "      <td>1</td>\n",
       "      <td>0</td>\n",
       "    </tr>\n",
       "  </tbody>\n",
       "</table>\n",
       "<p>10000 rows × 17 columns</p>\n",
       "</div>"
      ],
      "text/plain": [
       "      customer_id  credit_score  age  tenure    balance  products_number  \\\n",
       "0        15634602           619   42       2       0.00                1   \n",
       "1        15647311           608   41       1   83807.86                1   \n",
       "2        15619304           502   42       8  159660.80                3   \n",
       "3        15701354           699   39       1       0.00                2   \n",
       "4        15737888           850   43       2  125510.82                1   \n",
       "...           ...           ...  ...     ...        ...              ...   \n",
       "9995     15606229           771   39       5       0.00                2   \n",
       "9996     15569892           516   35      10   57369.61                1   \n",
       "9997     15584532           709   36       7       0.00                1   \n",
       "9998     15682355           772   42       3   75075.31                2   \n",
       "9999     15628319           792   28       4  130142.79                1   \n",
       "\n",
       "      estimated_salary  churn  country_France  country_Germany  country_Spain  \\\n",
       "0            101348.88      1               1                0              0   \n",
       "1            112542.58      0               0                0              1   \n",
       "2            113931.57      1               1                0              0   \n",
       "3             93826.63      0               1                0              0   \n",
       "4             79084.10      0               0                0              1   \n",
       "...                ...    ...             ...              ...            ...   \n",
       "9995          96270.64      0               1                0              0   \n",
       "9996         101699.77      0               1                0              0   \n",
       "9997          42085.58      1               1                0              0   \n",
       "9998          92888.52      1               0                1              0   \n",
       "9999          38190.78      0               1                0              0   \n",
       "\n",
       "      gender_Female  gender_Male  credit_card_0  credit_card_1  \\\n",
       "0                 1            0              0              1   \n",
       "1                 1            0              1              0   \n",
       "2                 1            0              0              1   \n",
       "3                 1            0              1              0   \n",
       "4                 1            0              0              1   \n",
       "...             ...          ...            ...            ...   \n",
       "9995              0            1              0              1   \n",
       "9996              0            1              0              1   \n",
       "9997              1            0              1              0   \n",
       "9998              0            1              0              1   \n",
       "9999              1            0              0              1   \n",
       "\n",
       "      active_member_0  active_member_1  \n",
       "0                   0                1  \n",
       "1                   0                1  \n",
       "2                   1                0  \n",
       "3                   1                0  \n",
       "4                   0                1  \n",
       "...               ...              ...  \n",
       "9995                1                0  \n",
       "9996                0                1  \n",
       "9997                0                1  \n",
       "9998                1                0  \n",
       "9999                1                0  \n",
       "\n",
       "[10000 rows x 17 columns]"
      ]
     },
     "execution_count": 14,
     "metadata": {},
     "output_type": "execute_result"
    }
   ],
   "source": [
    "## Encoding\n",
    "\n",
    "data = pd.get_dummies(data,columns = ['country','gender','credit_card','active_member'])\n",
    "data\n"
   ]
  },
  {
   "cell_type": "code",
   "execution_count": 15,
   "id": "d9f54037",
   "metadata": {},
   "outputs": [
    {
     "data": {
      "text/plain": [
       "array([[0.538     , 0.32432432, 0.2       , ..., 1.        , 0.        ,\n",
       "        1.        ],\n",
       "       [0.516     , 0.31081081, 0.1       , ..., 0.        , 0.        ,\n",
       "        1.        ],\n",
       "       [0.304     , 0.32432432, 0.8       , ..., 1.        , 1.        ,\n",
       "        0.        ],\n",
       "       ...,\n",
       "       [0.718     , 0.24324324, 0.7       , ..., 0.        , 0.        ,\n",
       "        1.        ],\n",
       "       [0.844     , 0.32432432, 0.3       , ..., 1.        , 1.        ,\n",
       "        0.        ],\n",
       "       [0.884     , 0.13513514, 0.4       , ..., 1.        , 1.        ,\n",
       "        0.        ]])"
      ]
     },
     "execution_count": 15,
     "metadata": {},
     "output_type": "execute_result"
    }
   ],
   "source": [
    "from sklearn.preprocessing import MinMaxScaler\n",
    "min_max = MinMaxScaler()\n",
    "data.drop('customer_id',axis = 1,inplace = True)\n",
    "scaled = min_max.fit_transform(data)\n",
    "scaled"
   ]
  },
  {
   "cell_type": "markdown",
   "id": "13e4de46",
   "metadata": {},
   "source": [
    "## Raw model"
   ]
  },
  {
   "cell_type": "code",
   "execution_count": 16,
   "id": "f9695f91",
   "metadata": {},
   "outputs": [],
   "source": [
    "x = data.drop('churn',axis = 1)\n",
    "y = data[['churn']]"
   ]
  },
  {
   "cell_type": "code",
   "execution_count": 17,
   "id": "0bdcf8ef",
   "metadata": {},
   "outputs": [
    {
     "name": "stdout",
     "output_type": "stream",
     "text": [
      "Accuracy: 0.787\n"
     ]
    }
   ],
   "source": [
    "from sklearn.model_selection import train_test_split\n",
    "import sklearn.metrics as met\n",
    "from sklearn.tree import DecisionTreeClassifier\n",
    "\n",
    "x_train,x_test,y_train,y_test = train_test_split(x,y,test_size = 0.2)\n",
    "dt = DecisionTreeClassifier()\n",
    "dt.fit(x_train,y_train)\n",
    "y_pred = dt.predict(x_test)\n",
    "acc = met.accuracy_score(y_pred,y_test)\n",
    "print(\"Accuracy:\",acc)\n"
   ]
  },
  {
   "cell_type": "markdown",
   "id": "ee3c5234",
   "metadata": {},
   "source": [
    "We have received an accuracy of 79%. There is still room for improvement."
   ]
  },
  {
   "cell_type": "code",
   "execution_count": 18,
   "id": "60c78d2d",
   "metadata": {},
   "outputs": [
    {
     "data": {
      "text/html": [
       "<div>\n",
       "<style scoped>\n",
       "    .dataframe tbody tr th:only-of-type {\n",
       "        vertical-align: middle;\n",
       "    }\n",
       "\n",
       "    .dataframe tbody tr th {\n",
       "        vertical-align: top;\n",
       "    }\n",
       "\n",
       "    .dataframe thead th {\n",
       "        text-align: right;\n",
       "    }\n",
       "</style>\n",
       "<table border=\"1\" class=\"dataframe\">\n",
       "  <thead>\n",
       "    <tr style=\"text-align: right;\">\n",
       "      <th></th>\n",
       "      <th>churn</th>\n",
       "      <th>pred</th>\n",
       "    </tr>\n",
       "  </thead>\n",
       "  <tbody>\n",
       "    <tr>\n",
       "      <th>5252</th>\n",
       "      <td>0</td>\n",
       "      <td>0</td>\n",
       "    </tr>\n",
       "    <tr>\n",
       "      <th>9150</th>\n",
       "      <td>0</td>\n",
       "      <td>0</td>\n",
       "    </tr>\n",
       "    <tr>\n",
       "      <th>7109</th>\n",
       "      <td>0</td>\n",
       "      <td>0</td>\n",
       "    </tr>\n",
       "    <tr>\n",
       "      <th>9577</th>\n",
       "      <td>1</td>\n",
       "      <td>0</td>\n",
       "    </tr>\n",
       "    <tr>\n",
       "      <th>1244</th>\n",
       "      <td>0</td>\n",
       "      <td>0</td>\n",
       "    </tr>\n",
       "    <tr>\n",
       "      <th>...</th>\n",
       "      <td>...</td>\n",
       "      <td>...</td>\n",
       "    </tr>\n",
       "    <tr>\n",
       "      <th>436</th>\n",
       "      <td>0</td>\n",
       "      <td>0</td>\n",
       "    </tr>\n",
       "    <tr>\n",
       "      <th>813</th>\n",
       "      <td>1</td>\n",
       "      <td>1</td>\n",
       "    </tr>\n",
       "    <tr>\n",
       "      <th>5998</th>\n",
       "      <td>0</td>\n",
       "      <td>0</td>\n",
       "    </tr>\n",
       "    <tr>\n",
       "      <th>6801</th>\n",
       "      <td>1</td>\n",
       "      <td>0</td>\n",
       "    </tr>\n",
       "    <tr>\n",
       "      <th>5764</th>\n",
       "      <td>0</td>\n",
       "      <td>1</td>\n",
       "    </tr>\n",
       "  </tbody>\n",
       "</table>\n",
       "<p>2000 rows × 2 columns</p>\n",
       "</div>"
      ],
      "text/plain": [
       "      churn  pred\n",
       "5252      0     0\n",
       "9150      0     0\n",
       "7109      0     0\n",
       "9577      1     0\n",
       "1244      0     0\n",
       "...     ...   ...\n",
       "436       0     0\n",
       "813       1     1\n",
       "5998      0     0\n",
       "6801      1     0\n",
       "5764      0     1\n",
       "\n",
       "[2000 rows x 2 columns]"
      ]
     },
     "execution_count": 18,
     "metadata": {},
     "output_type": "execute_result"
    }
   ],
   "source": [
    "y_test['pred'] = y_pred\n",
    "y_test"
   ]
  },
  {
   "cell_type": "code",
   "execution_count": 19,
   "id": "fa61b7ab",
   "metadata": {},
   "outputs": [
    {
     "data": {
      "text/plain": [
       "0.49406175771971494"
      ]
     },
     "execution_count": 19,
     "metadata": {},
     "output_type": "execute_result"
    }
   ],
   "source": [
    "f1 = met.f1_score(y_pred,y_test['churn'])\n",
    "f1"
   ]
  },
  {
   "cell_type": "markdown",
   "id": "a78ff113",
   "metadata": {},
   "source": [
    "The f1 score also tends to be low."
   ]
  },
  {
   "cell_type": "markdown",
   "id": "fdad7110",
   "metadata": {},
   "source": [
    "## Feature Selection"
   ]
  },
  {
   "cell_type": "markdown",
   "id": "5c03da99",
   "metadata": {},
   "source": [
    "As the model with all the features included have not performed well, let us trying eliminating some non-important features"
   ]
  },
  {
   "cell_type": "code",
   "execution_count": 20,
   "id": "3e2f8486",
   "metadata": {},
   "outputs": [
    {
     "name": "stdout",
     "output_type": "stream",
     "text": [
      "credit_score=0.00674\n",
      "age=0.00000\n",
      "tenure=0.16153\n",
      "balance=0.00000\n",
      "estimated_salary=0.22644\n",
      "products_number=0.00000\n"
     ]
    }
   ],
   "source": [
    "for i in ['credit_score','age','tenure','balance','estimated_salary','products_number']:\n",
    "    a = data[data['churn']==0][i]\n",
    "    b = data[data['churn']==1][i]\n",
    "    t,p = stats.ttest_ind(a,b)\n",
    "    print(f'{i}'+'={:0.5f}'.format(p))"
   ]
  },
  {
   "cell_type": "markdown",
   "id": "de17c7c2",
   "metadata": {},
   "source": [
    "In the t-test , we can see that variables, tenue and estimated salary has higher p-value indictaing the insignificance in the target variable. And from the categorical columns credit card had highe p-value in chi-square test"
   ]
  },
  {
   "cell_type": "code",
   "execution_count": 21,
   "id": "aa1aafca",
   "metadata": {},
   "outputs": [],
   "source": [
    "x1 = data.drop(['churn','tenure','estimated_salary','credit_card_0','credit_card_1'],axis = 1)\n",
    "y1 = data['churn']\n"
   ]
  },
  {
   "cell_type": "code",
   "execution_count": 22,
   "id": "1b7aac8a",
   "metadata": {},
   "outputs": [
    {
     "name": "stdout",
     "output_type": "stream",
     "text": [
      "Accuracy: 0.792\n",
      "F1_score: 0.49432739059967584\n"
     ]
    }
   ],
   "source": [
    "scaled = min_max.fit_transform(x1)\n",
    "dt1 = DecisionTreeClassifier()\n",
    "x1_train,x1_test,y1_train,y1_test = train_test_split(x1,y1,test_size =0.3)\n",
    "dt1.fit(x1_train,y1_train)\n",
    "y_pred1 = dt1.predict(x1_test)\n",
    "acc1 = met.accuracy_score(y_pred1,y1_test)\n",
    "f1_1 = met.f1_score(y_pred1,y1_test)\n",
    "print(\"Accuracy:\",acc1)\n",
    "print(\"F1_score:\",f1_1)"
   ]
  },
  {
   "cell_type": "code",
   "execution_count": 23,
   "id": "127f9fdd",
   "metadata": {},
   "outputs": [],
   "source": [
    "from imblearn.over_sampling import SMOTE"
   ]
  },
  {
   "cell_type": "code",
   "execution_count": 24,
   "id": "0d2b94a0",
   "metadata": {},
   "outputs": [],
   "source": [
    "smote = SMOTE(sampling_strategy='auto')"
   ]
  },
  {
   "cell_type": "code",
   "execution_count": 25,
   "id": "381a3fd5",
   "metadata": {},
   "outputs": [
    {
     "name": "stdout",
     "output_type": "stream",
     "text": [
      "Accuracy: 0.8522394307241523\n",
      "F1_score: 0.8502333474756045\n"
     ]
    }
   ],
   "source": [
    "#REsampling on selected features\n",
    "x2,y2 = smote.fit_resample(x1,y1)\n",
    "scaled = min_max.fit_transform(x2)\n",
    "dt2 = DecisionTreeClassifier()\n",
    "x2_train,x2_test,y2_train,y2_test = train_test_split(x2,y2,test_size =0.3)\n",
    "dt2.fit(x2_train,y2_train)\n",
    "y_pred2 = dt2.predict(x2_test)\n",
    "acc2 = met.accuracy_score(y_pred2,y2_test)\n",
    "f1_2 = met.f1_score(y_pred2,y2_test)\n",
    "print(\"Accuracy:\",acc2)\n",
    "print(\"F1_score:\",f1_2)"
   ]
  },
  {
   "cell_type": "markdown",
   "id": "8e631ac8",
   "metadata": {},
   "source": [
    "So after Resampling there is a good improvement in both accuracy and f1 score"
   ]
  },
  {
   "cell_type": "code",
   "execution_count": 26,
   "id": "3addeb14",
   "metadata": {},
   "outputs": [
    {
     "name": "stdout",
     "output_type": "stream",
     "text": [
      "Accuracy: 0.8327752197572206\n",
      "F1_score: 0.8337148803329865\n"
     ]
    }
   ],
   "source": [
    "#resampling on all features\n",
    "x3,y3 = smote.fit_resample(x,y)\n",
    "scaled = min_max.fit_transform(x3)\n",
    "dt3 = DecisionTreeClassifier()\n",
    "x3_train,x3_test,y3_train,y3_test = train_test_split(x3,y3,test_size =0.3)\n",
    "dt3.fit(x3_train,y3_train)\n",
    "y_pred3 = dt3.predict(x3_test)\n",
    "acc3 = met.accuracy_score(y_pred3,y3_test)\n",
    "f1_3 = met.f1_score(y_pred3,y3_test)\n",
    "print(\"Accuracy:\",acc3)\n",
    "print(\"F1_score:\",f1_3)"
   ]
  },
  {
   "cell_type": "markdown",
   "id": "3382744a",
   "metadata": {},
   "source": [
    "The accuracy and f1 score seems to be lesser than for that of selected features."
   ]
  },
  {
   "cell_type": "code",
   "execution_count": 27,
   "id": "31e54eee",
   "metadata": {},
   "outputs": [],
   "source": [
    "from sklearn.model_selection import GridSearchCV\n",
    "\n",
    "\n",
    "param_grid = {\n",
    "    'criterion': ['gini', 'entropy'],\n",
    "    'max_depth': [None, 5, 10, 15],\n",
    "    'min_samples_split': [2, 5, 10],\n",
    "    'min_samples_leaf': [1, 2, 4],\n",
    "    'max_features': ['sqrt', 'log2', None]\n",
    "}\n",
    "\n",
    "grid_search = GridSearchCV(dt, param_grid, cv=5, scoring='accuracy')\n",
    "\n",
    "grid_search.fit(x2,y2)\n",
    "\n",
    "best_params = grid_search.best_params_\n",
    "print(\"Best Hyperparameters:\", best_params)\n"
   ]
  },
  {
   "cell_type": "code",
   "execution_count": 28,
   "id": "bdad6a4b",
   "metadata": {},
   "outputs": [
    {
     "name": "stdout",
     "output_type": "stream",
     "text": [
      "Accuracy: 0.8740058601925492\n",
      "F1_score: 0.8687881429816914\n"
     ]
    }
   ],
   "source": [
    "dt_hype = DecisionTreeClassifier(criterion = 'gini',max_depth = 10,min_samples_leaf = 4,min_samples_split = 5,max_features = None)\n",
    "dt_hype.fit(x2_train,y2_train)\n",
    "y_pred2 = dt_hype.predict(x2_test)\n",
    "acc2 = met.accuracy_score(y_pred2,y2_test)\n",
    "f1_2 = met.f1_score(y_pred2,y2_test)\n",
    "print(\"Accuracy:\",acc2)\n",
    "print(\"F1_score:\",f1_2)\n"
   ]
  },
  {
   "cell_type": "markdown",
   "id": "d0c1a3e4",
   "metadata": {},
   "source": [
    "The accuracy  and f1 score has been further increased to around 86%"
   ]
  },
  {
   "cell_type": "markdown",
   "id": "f5de5c67",
   "metadata": {},
   "source": [
    "## Random Forest"
   ]
  },
  {
   "cell_type": "code",
   "execution_count": 29,
   "id": "5eb8602c",
   "metadata": {},
   "outputs": [],
   "source": [
    "from sklearn.ensemble import RandomForestClassifier"
   ]
  },
  {
   "cell_type": "code",
   "execution_count": 30,
   "id": "75042ac6",
   "metadata": {},
   "outputs": [
    {
     "name": "stdout",
     "output_type": "stream",
     "text": [
      "ACCURACY: 0.8987023859355379\n",
      "F1-SCORE: 0.8945074106364429\n"
     ]
    }
   ],
   "source": [
    "rf = RandomForestClassifier()\n",
    "rf.fit(x2_train,y2_train)\n",
    "y_pred_rf = rf.predict(x2_test)\n",
    "acc = met.accuracy_score(y_pred_rf,y2_test)\n",
    "f1 = met.f1_score(y_pred_rf,y2_test)\n",
    "print(\"ACCURACY:\",acc)\n",
    "print(\"F1-SCORE:\",f1)"
   ]
  },
  {
   "cell_type": "markdown",
   "id": "b53e9cd0",
   "metadata": {},
   "source": [
    "Random Forest is also a tree based ensemble technique which builds multiple decision trees and combine the result of all of them. The plain Random Forest model gives a better accuracy and F1 score"
   ]
  },
  {
   "cell_type": "code",
   "execution_count": 31,
   "id": "1a4fc68c",
   "metadata": {},
   "outputs": [],
   "source": [
    "param_grid = {\n",
    "    'n_estimators': [100, 200, 300],\n",
    "    'max_depth': [None, 10, 20, 30],\n",
    "    'min_samples_split': [2, 5, 10],\n",
    "    'min_samples_leaf': [1, 2, 4]\n",
    "}\n",
    "\n",
    "grid_search = GridSearchCV(estimator=rf, param_grid=param_grid, cv=3, scoring='accuracy')\n",
    "\n",
    "grid_search.fit(x2_train, y2_train)\n",
    "\n",
    "best_params = grid_search.best_params_\n"
   ]
  },
  {
   "cell_type": "code",
   "execution_count": 32,
   "id": "5639f8f5",
   "metadata": {},
   "outputs": [
    {
     "name": "stdout",
     "output_type": "stream",
     "text": [
      "ACCURACY: 0.9007953118459606\n",
      "F1-SCORE: 0.8963254593175853\n"
     ]
    }
   ],
   "source": [
    "rf_new = RandomForestClassifier(min_samples_leaf = 2,min_samples_split = 2,max_depth = None,n_estimators = 100)\n",
    "rf_new.fit(x2_train,y2_train)\n",
    "y_pred_rf = rf_new.predict(x2_test)\n",
    "acc = met.accuracy_score(y_pred_rf,y2_test)\n",
    "f1 = met.f1_score(y_pred_rf,y2_test)\n",
    "print(\"ACCURACY:\",acc)\n",
    "print(\"F1-SCORE:\",f1)"
   ]
  },
  {
   "cell_type": "markdown",
   "id": "1e33efcd",
   "metadata": {},
   "source": [
    "## K - Nearest Neighbours"
   ]
  },
  {
   "cell_type": "code",
   "execution_count": 33,
   "id": "eded4457",
   "metadata": {},
   "outputs": [],
   "source": [
    "from sklearn.neighbors import KNeighborsClassifier\n",
    "from sklearn.model_selection import cross_val_score\n",
    "k_values = list(range(1, 21))  \n",
    "\n",
    "cv_scores = []\n",
    "\n",
    "for k in k_values:\n",
    "    knn = KNeighborsClassifier(n_neighbors=k)  \n",
    "    scores = cross_val_score(knn, x2_train, y2_train, cv=3, scoring='accuracy')\n",
    "    cv_scores.append(scores.mean())\n",
    "\n",
    "# Find the K value with the highest cross-validation score\n",
    "optimal_k = k_values[cv_scores.index(max(cv_scores))]\n",
    "print(\"Optimal K:\", optimal_k)\n"
   ]
  },
  {
   "cell_type": "code",
   "execution_count": 35,
   "id": "e932a875",
   "metadata": {},
   "outputs": [],
   "source": [
    "cv_scores"
   ]
  },
  {
   "cell_type": "markdown",
   "id": "7367ae2d",
   "metadata": {},
   "source": [
    "The cv score is highest for k = 1.The second highest is for K=3. Let us build model with both "
   ]
  },
  {
   "cell_type": "code",
   "execution_count": 36,
   "id": "81b59ae5",
   "metadata": {},
   "outputs": [
    {
     "name": "stdout",
     "output_type": "stream",
     "text": [
      "ACCURACY: 0.747802427794056\n",
      "F1-SCORE: 0.7601990049751243\n"
     ]
    }
   ],
   "source": [
    "## k = 1\n",
    "knn_1 = KNeighborsClassifier(n_neighbors=1)  \n",
    "knn_1.fit(x2_train,y2_train)\n",
    "y_pred = knn_1.predict(x2_test)\n",
    "acc = met.accuracy_score(y_pred,y2_test)\n",
    "f1 = met.f1_score(y_pred,y2_test)\n",
    "print(\"ACCURACY:\",acc)\n",
    "print(\"F1-SCORE:\",f1)"
   ]
  },
  {
   "cell_type": "code",
   "execution_count": 37,
   "id": "87884186",
   "metadata": {},
   "outputs": [
    {
     "name": "stdout",
     "output_type": "stream",
     "text": [
      "ACCURACY: 0.723524487233152\n",
      "F1-SCORE: 0.7424449210372392\n"
     ]
    }
   ],
   "source": [
    "## k = 3\n",
    "\n",
    "knn_3 = KNeighborsClassifier(n_neighbors=3)  \n",
    "knn_3.fit(x2_train,y2_train)\n",
    "y_pred = knn_3.predict(x2_test)\n",
    "acc = met.accuracy_score(y_pred,y2_test)\n",
    "f1 = met.f1_score(y_pred,y2_test)\n",
    "print(\"ACCURACY:\",acc)\n",
    "print(\"F1-SCORE:\",f1)"
   ]
  },
  {
   "cell_type": "markdown",
   "id": "1eb09683",
   "metadata": {},
   "source": [
    "KNN has not produced a desirable score for accuracy and F1 score."
   ]
  },
  {
   "cell_type": "markdown",
   "id": "47faf1f2",
   "metadata": {},
   "source": [
    "Among all the models built , Random Forest provides the highest accuracy"
   ]
  }
 ],
 "metadata": {
  "kernelspec": {
   "display_name": "Python 3 (ipykernel)",
   "language": "python",
   "name": "python3"
  },
  "language_info": {
   "codemirror_mode": {
    "name": "ipython",
    "version": 3
   },
   "file_extension": ".py",
   "mimetype": "text/x-python",
   "name": "python",
   "nbconvert_exporter": "python",
   "pygments_lexer": "ipython3",
   "version": "3.9.7"
  }
 },
 "nbformat": 4,
 "nbformat_minor": 5
}
